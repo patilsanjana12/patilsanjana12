{
  "nbformat": 4,
  "nbformat_minor": 0,
  "metadata": {
    "colab": {
      "provenance": [],
      "authorship_tag": "ABX9TyPrfrv5YsCYbU+kCuNIY4GF",
      "include_colab_link": true
    },
    "kernelspec": {
      "name": "python3",
      "display_name": "Python 3"
    },
    "language_info": {
      "name": "python"
    }
  },
  "cells": [
    {
      "cell_type": "markdown",
      "metadata": {
        "id": "view-in-github",
        "colab_type": "text"
      },
      "source": [
        "<a href=\"https://colab.research.google.com/github/patilsanjana12/patilsanjana12/blob/main/microooo.ipynb\" target=\"_parent\"><img src=\"https://colab.research.google.com/assets/colab-badge.svg\" alt=\"Open In Colab\"/></a>"
      ]
    },
    {
      "cell_type": "code",
      "execution_count": 1,
      "metadata": {
        "colab": {
          "base_uri": "https://localhost:8080/"
        },
        "id": "dPc3se0tIfwO",
        "outputId": "84ac9b0e-0ee6-402f-8a2a-1cbe652e83a9"
      },
      "outputs": [
        {
          "output_type": "stream",
          "name": "stdout",
          "text": [
            "Collecting colorama\n",
            "  Downloading colorama-0.4.6-py2.py3-none-any.whl.metadata (17 kB)\n",
            "Downloading colorama-0.4.6-py2.py3-none-any.whl (25 kB)\n",
            "Installing collected packages: colorama\n",
            "Successfully installed colorama-0.4.6\n"
          ]
        }
      ],
      "source": [
        "pip install colorama"
      ]
    },
    {
      "cell_type": "code",
      "source": [],
      "metadata": {
        "id": "I00KHE9PJa_W"
      },
      "execution_count": null,
      "outputs": []
    },
    {
      "cell_type": "code",
      "source": [
        "\n",
        "import requests\n",
        "from colorama import Fore, Style, init\n",
        "\n",
        "# Initialize colorama\n",
        "init(autoreset=True)\n",
        "\n",
        "def get_weather(city):\n",
        "    url = f\"https://wttr.in/{city}?format=j1\"\n",
        "    try:\n",
        "        response = requests.get(url)\n",
        "        if response.status_code == 200:\n",
        "            data = response.json()\n",
        "            area = data['nearest_area'][0]['areaName'][0]['value']\n",
        "            country = data['nearest_area'][0]['country'][0]['value']\n",
        "            temp_C = data['current_condition'][0]['temp_C']\n",
        "            weather_desc = data['current_condition'][0]['weatherDesc'][0]['value']\n",
        "            humidity = data['current_condition'][0]['humidity']\n",
        "            windspeed = data['current_condition'][0]['windspeedKmph']\n",
        "\n",
        "            print(f\"\\n{Fore.CYAN}Weather for {Fore.YELLOW}{area}, {country}{Style.RESET_ALL}\")\n",
        "            print(f\"{Fore.GREEN}-------------------------------------\")\n",
        "            print(f\"{Fore.MAGENTA}Temperature: {Fore.WHITE}{temp_C}°C\")\n",
        "            print(f\"{Fore.MAGENTA}Condition:   {Fore.WHITE}{weather_desc}\")\n",
        "            print(f\"{Fore.MAGENTA}Humidity:    {Fore.WHITE}{humidity}%\")\n",
        "            print(f\"{Fore.MAGENTA}Wind Speed:  {Fore.WHITE}{windspeed} km/h\")\n",
        "            print(f\"{Fore.GREEN}-------------------------------------\\n\")\n",
        "        else:\n",
        "            print(Fore.RED + \"Could not retrieve weather information.\")\n",
        "    except Exception as e:\n",
        "        print(Fore.RED + \"Error occurred:\", e)\n",
        "\n",
        "def main():\n",
        "    print(f\"{Fore.LIGHTBLUE_EX}====== Fancy Weather App (No API Key Needed) ======\")\n",
        "    while True:\n",
        "        city = input(f\"\\n{Fore.LIGHTGREEN_EX}Enter city name (or 'exit' to quit): {Fore.RESET}\")\n",
        "        if city.lower() == 'exit':\n",
        "            print(f\"{Fore.LIGHTYELLOW_EX}\\nGoodbye! Stay safe!\")\n",
        "            break\n",
        "        get_weather(city)\n",
        "\n",
        "if __name__ == \"__main__\":\n",
        "    main()"
      ],
      "metadata": {
        "colab": {
          "base_uri": "https://localhost:8080/"
        },
        "id": "cu4N-z0QIpWZ",
        "outputId": "602475c6-d0ab-4bc2-a8e1-d17e86af0f2a"
      },
      "execution_count": 2,
      "outputs": [
        {
          "output_type": "stream",
          "name": "stdout",
          "text": [
            "====== Fancy Weather App (No API Key Needed) ======\n",
            "\n",
            "\u001b[92mEnter city name (or 'exit' to quit): \u001b[39mDelhi\n",
            "\n",
            "Weather for New Delhi, India\n",
            "-------------------------------------\n",
            "Temperature: 35°C\n",
            "Condition:   Haze\n",
            "Humidity:    28%\n",
            "Wind Speed:  8 km/h\n",
            "-------------------------------------\n",
            "\n",
            "\n",
            "\u001b[92mEnter city name (or 'exit' to quit): \u001b[39mexit\n",
            "\n",
            "Goodbye! Stay safe!\n"
          ]
        }
      ]
    }
  ]
}
